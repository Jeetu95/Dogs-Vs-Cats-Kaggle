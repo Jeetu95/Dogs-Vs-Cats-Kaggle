{
 "cells": [
  {
   "cell_type": "code",
   "execution_count": 1,
   "metadata": {},
   "outputs": [
    {
     "name": "stderr",
     "output_type": "stream",
     "text": [
      "Using TensorFlow backend.\n",
      "D:\\anaconda\\lib\\site-packages\\tensorflow\\python\\framework\\dtypes.py:516: FutureWarning: Passing (type, 1) or '1type' as a synonym of type is deprecated; in a future version of numpy, it will be understood as (type, (1,)) / '(1,)type'.\n",
      "  _np_qint8 = np.dtype([(\"qint8\", np.int8, 1)])\n",
      "D:\\anaconda\\lib\\site-packages\\tensorflow\\python\\framework\\dtypes.py:517: FutureWarning: Passing (type, 1) or '1type' as a synonym of type is deprecated; in a future version of numpy, it will be understood as (type, (1,)) / '(1,)type'.\n",
      "  _np_quint8 = np.dtype([(\"quint8\", np.uint8, 1)])\n",
      "D:\\anaconda\\lib\\site-packages\\tensorflow\\python\\framework\\dtypes.py:518: FutureWarning: Passing (type, 1) or '1type' as a synonym of type is deprecated; in a future version of numpy, it will be understood as (type, (1,)) / '(1,)type'.\n",
      "  _np_qint16 = np.dtype([(\"qint16\", np.int16, 1)])\n",
      "D:\\anaconda\\lib\\site-packages\\tensorflow\\python\\framework\\dtypes.py:519: FutureWarning: Passing (type, 1) or '1type' as a synonym of type is deprecated; in a future version of numpy, it will be understood as (type, (1,)) / '(1,)type'.\n",
      "  _np_quint16 = np.dtype([(\"quint16\", np.uint16, 1)])\n",
      "D:\\anaconda\\lib\\site-packages\\tensorflow\\python\\framework\\dtypes.py:520: FutureWarning: Passing (type, 1) or '1type' as a synonym of type is deprecated; in a future version of numpy, it will be understood as (type, (1,)) / '(1,)type'.\n",
      "  _np_qint32 = np.dtype([(\"qint32\", np.int32, 1)])\n",
      "D:\\anaconda\\lib\\site-packages\\tensorflow\\python\\framework\\dtypes.py:525: FutureWarning: Passing (type, 1) or '1type' as a synonym of type is deprecated; in a future version of numpy, it will be understood as (type, (1,)) / '(1,)type'.\n",
      "  np_resource = np.dtype([(\"resource\", np.ubyte, 1)])\n",
      "D:\\anaconda\\lib\\site-packages\\tensorboard\\compat\\tensorflow_stub\\dtypes.py:541: FutureWarning: Passing (type, 1) or '1type' as a synonym of type is deprecated; in a future version of numpy, it will be understood as (type, (1,)) / '(1,)type'.\n",
      "  _np_qint8 = np.dtype([(\"qint8\", np.int8, 1)])\n",
      "D:\\anaconda\\lib\\site-packages\\tensorboard\\compat\\tensorflow_stub\\dtypes.py:542: FutureWarning: Passing (type, 1) or '1type' as a synonym of type is deprecated; in a future version of numpy, it will be understood as (type, (1,)) / '(1,)type'.\n",
      "  _np_quint8 = np.dtype([(\"quint8\", np.uint8, 1)])\n",
      "D:\\anaconda\\lib\\site-packages\\tensorboard\\compat\\tensorflow_stub\\dtypes.py:543: FutureWarning: Passing (type, 1) or '1type' as a synonym of type is deprecated; in a future version of numpy, it will be understood as (type, (1,)) / '(1,)type'.\n",
      "  _np_qint16 = np.dtype([(\"qint16\", np.int16, 1)])\n",
      "D:\\anaconda\\lib\\site-packages\\tensorboard\\compat\\tensorflow_stub\\dtypes.py:544: FutureWarning: Passing (type, 1) or '1type' as a synonym of type is deprecated; in a future version of numpy, it will be understood as (type, (1,)) / '(1,)type'.\n",
      "  _np_quint16 = np.dtype([(\"quint16\", np.uint16, 1)])\n",
      "D:\\anaconda\\lib\\site-packages\\tensorboard\\compat\\tensorflow_stub\\dtypes.py:545: FutureWarning: Passing (type, 1) or '1type' as a synonym of type is deprecated; in a future version of numpy, it will be understood as (type, (1,)) / '(1,)type'.\n",
      "  _np_qint32 = np.dtype([(\"qint32\", np.int32, 1)])\n",
      "D:\\anaconda\\lib\\site-packages\\tensorboard\\compat\\tensorflow_stub\\dtypes.py:550: FutureWarning: Passing (type, 1) or '1type' as a synonym of type is deprecated; in a future version of numpy, it will be understood as (type, (1,)) / '(1,)type'.\n",
      "  np_resource = np.dtype([(\"resource\", np.ubyte, 1)])\n"
     ]
    }
   ],
   "source": [
    "from keras.models import Sequential\n",
    "from keras.layers import Conv2D\n",
    "from keras.layers import MaxPooling2D\n",
    "from keras.layers import Flatten\n",
    "from keras.layers import Dense"
   ]
  },
  {
   "cell_type": "code",
   "execution_count": 2,
   "metadata": {},
   "outputs": [],
   "source": [
    "classifier = Sequential()"
   ]
  },
  {
   "cell_type": "code",
   "execution_count": 3,
   "metadata": {},
   "outputs": [],
   "source": [
    "classifier.add(Conv2D(32, (3, 3), input_shape = (64, 64, 3), activation = 'relu'))"
   ]
  },
  {
   "cell_type": "code",
   "execution_count": 4,
   "metadata": {},
   "outputs": [
    {
     "name": "stdout",
     "output_type": "stream",
     "text": [
      "WARNING:tensorflow:From D:\\anaconda\\lib\\site-packages\\keras\\backend\\tensorflow_backend.py:4070: The name tf.nn.max_pool is deprecated. Please use tf.nn.max_pool2d instead.\n",
      "\n"
     ]
    }
   ],
   "source": [
    "#Pooling\n",
    "classifier.add(MaxPooling2D(pool_size = (2, 2)))"
   ]
  },
  {
   "cell_type": "code",
   "execution_count": 5,
   "metadata": {},
   "outputs": [],
   "source": [
    "classifier.add(Conv2D(32, (3, 3), activation = 'relu'))\n",
    "classifier.add(MaxPooling2D(pool_size = (2, 2)))"
   ]
  },
  {
   "cell_type": "code",
   "execution_count": 6,
   "metadata": {},
   "outputs": [],
   "source": [
    "#Flattening\n",
    "classifier.add(Flatten())"
   ]
  },
  {
   "cell_type": "code",
   "execution_count": 7,
   "metadata": {},
   "outputs": [],
   "source": [
    "classifier.add(Dense(units = 128, activation = 'relu'))\n",
    "classifier.add(Dense(units = 1, activation = 'sigmoid'))"
   ]
  },
  {
   "cell_type": "code",
   "execution_count": 8,
   "metadata": {},
   "outputs": [
    {
     "name": "stdout",
     "output_type": "stream",
     "text": [
      "WARNING:tensorflow:From D:\\anaconda\\lib\\site-packages\\tensorflow\\python\\ops\\nn_impl.py:180: add_dispatch_support.<locals>.wrapper (from tensorflow.python.ops.array_ops) is deprecated and will be removed in a future version.\n",
      "Instructions for updating:\n",
      "Use tf.where in 2.0, which has the same broadcast rule as np.where\n"
     ]
    }
   ],
   "source": [
    "classifier.compile(optimizer = 'adam', loss = 'binary_crossentropy', metrics = ['accuracy'])"
   ]
  },
  {
   "cell_type": "markdown",
   "metadata": {},
   "source": [
    " #Fitting the CNN to the images"
   ]
  },
  {
   "cell_type": "code",
   "execution_count": 10,
   "metadata": {},
   "outputs": [
    {
     "name": "stdout",
     "output_type": "stream",
     "text": [
      "Model: \"sequential_1\"\n",
      "_________________________________________________________________\n",
      "Layer (type)                 Output Shape              Param #   \n",
      "=================================================================\n",
      "conv2d_1 (Conv2D)            (None, 62, 62, 32)        896       \n",
      "_________________________________________________________________\n",
      "max_pooling2d_1 (MaxPooling2 (None, 31, 31, 32)        0         \n",
      "_________________________________________________________________\n",
      "conv2d_2 (Conv2D)            (None, 29, 29, 32)        9248      \n",
      "_________________________________________________________________\n",
      "max_pooling2d_2 (MaxPooling2 (None, 14, 14, 32)        0         \n",
      "_________________________________________________________________\n",
      "flatten_1 (Flatten)          (None, 6272)              0         \n",
      "_________________________________________________________________\n",
      "dense_1 (Dense)              (None, 128)               802944    \n",
      "_________________________________________________________________\n",
      "dense_2 (Dense)              (None, 1)                 129       \n",
      "=================================================================\n",
      "Total params: 813,217\n",
      "Trainable params: 813,217\n",
      "Non-trainable params: 0\n",
      "_________________________________________________________________\n"
     ]
    }
   ],
   "source": [
    "classifier.summary()"
   ]
  },
  {
   "cell_type": "code",
   "execution_count": 12,
   "metadata": {},
   "outputs": [],
   "source": [
    "train_datagen = ImageDataGenerator(rescale = 1./255,\n",
    "                                   shear_range = 0.2,\n",
    "                                   zoom_range = 0.2,\n",
    "                                   horizontal_flip = True)\n",
    "\n",
    "test_datagen = ImageDataGenerator(rescale = 1./255)"
   ]
  },
  {
   "cell_type": "code",
   "execution_count": 13,
   "metadata": {},
   "outputs": [
    {
     "name": "stdout",
     "output_type": "stream",
     "text": [
      "Found 1002 images belonging to 2 classes.\n"
     ]
    }
   ],
   "source": [
    "training_set = train_datagen.flow_from_directory('C:/Users/gaurav sahani/Desktop/Machine Learning/Mchine Learning Parctical/Cat Dog Classifier program/cats_and_dogs_filtered/cats_and_dogs_filtered/train',\n",
    "                                                 target_size = (64, 64),\n",
    "                                                 batch_size = 32,\n",
    "                                                 class_mode = 'binary')"
   ]
  },
  {
   "cell_type": "code",
   "execution_count": 15,
   "metadata": {},
   "outputs": [
    {
     "name": "stdout",
     "output_type": "stream",
     "text": [
      "Found 202 images belonging to 2 classes.\n"
     ]
    }
   ],
   "source": [
    "test_set = test_datagen.flow_from_directory('C:/Users/gaurav sahani/Desktop/Machine Learning/Mchine Learning Parctical/Cat Dog Classifier program/cats_and_dogs_filtered/cats_and_dogs_filtered/validation',\n",
    "                                            target_size = (64, 64),\n",
    "                                            batch_size = 32,\n",
    "                                            class_mode = 'binary')"
   ]
  },
  {
   "cell_type": "code",
   "execution_count": 16,
   "metadata": {},
   "outputs": [
    {
     "name": "stdout",
     "output_type": "stream",
     "text": [
      "WARNING:tensorflow:From D:\\anaconda\\lib\\site-packages\\keras\\backend\\tensorflow_backend.py:422: The name tf.global_variables is deprecated. Please use tf.compat.v1.global_variables instead.\n",
      "\n",
      "Epoch 1/25\n",
      "32/32 [==============================] - 82s 3s/step - loss: 0.6959 - accuracy: 0.5060 - val_loss: 0.6921 - val_accuracy: 0.5298\n",
      "Epoch 2/25\n",
      "32/32 [==============================] - 79s 2s/step - loss: 0.6805 - accuracy: 0.5549 - val_loss: 0.7075 - val_accuracy: 0.5050\n",
      "Epoch 3/25\n",
      "32/32 [==============================] - 80s 2s/step - loss: 0.6739 - accuracy: 0.5918 - val_loss: 0.6181 - val_accuracy: 0.5843\n",
      "Epoch 4/25\n",
      "32/32 [==============================] - 80s 2s/step - loss: 0.6434 - accuracy: 0.6188 - val_loss: 0.5401 - val_accuracy: 0.6139\n",
      "Epoch 5/25\n",
      "32/32 [==============================] - 80s 3s/step - loss: 0.5908 - accuracy: 0.6886 - val_loss: 0.5537 - val_accuracy: 0.6383\n",
      "Epoch 6/25\n",
      "32/32 [==============================] - 79s 2s/step - loss: 0.5655 - accuracy: 0.7086 - val_loss: 0.7324 - val_accuracy: 0.6583\n",
      "Epoch 7/25\n",
      "32/32 [==============================] - 79s 2s/step - loss: 0.5198 - accuracy: 0.7405 - val_loss: 0.5040 - val_accuracy: 0.6635\n",
      "Epoch 8/25\n",
      "32/32 [==============================] - 79s 2s/step - loss: 0.5085 - accuracy: 0.7555 - val_loss: 0.6040 - val_accuracy: 0.7079\n",
      "Epoch 9/25\n",
      "32/32 [==============================] - 80s 2s/step - loss: 0.5305 - accuracy: 0.7355 - val_loss: 0.5035 - val_accuracy: 0.7377\n",
      "Epoch 10/25\n",
      "32/32 [==============================] - 80s 3s/step - loss: 0.4941 - accuracy: 0.7774 - val_loss: 0.5131 - val_accuracy: 0.7374\n",
      "Epoch 11/25\n",
      "32/32 [==============================] - 79s 2s/step - loss: 0.4818 - accuracy: 0.7615 - val_loss: 0.5698 - val_accuracy: 0.7030\n",
      "Epoch 12/25\n",
      "32/32 [==============================] - 80s 2s/step - loss: 0.4859 - accuracy: 0.7745 - val_loss: 0.5197 - val_accuracy: 0.7079\n",
      "Epoch 13/25\n",
      "32/32 [==============================] - 81s 3s/step - loss: 0.4398 - accuracy: 0.7894 - val_loss: 0.3515 - val_accuracy: 0.7377\n",
      "Epoch 14/25\n",
      "32/32 [==============================] - 80s 3s/step - loss: 0.4336 - accuracy: 0.8024 - val_loss: 0.2711 - val_accuracy: 0.7029\n",
      "Epoch 15/25\n",
      "32/32 [==============================] - 80s 3s/step - loss: 0.4034 - accuracy: 0.8144 - val_loss: 0.6393 - val_accuracy: 0.7129\n",
      "Epoch 16/25\n",
      "32/32 [==============================] - 80s 3s/step - loss: 0.4142 - accuracy: 0.8014 - val_loss: 0.5536 - val_accuracy: 0.7574\n",
      "Epoch 17/25\n",
      "32/32 [==============================] - 80s 3s/step - loss: 0.3982 - accuracy: 0.8234 - val_loss: 0.6884 - val_accuracy: 0.7130\n",
      "Epoch 18/25\n",
      "32/32 [==============================] - 79s 2s/step - loss: 0.3931 - accuracy: 0.8253 - val_loss: 0.4349 - val_accuracy: 0.7077\n",
      "Epoch 19/25\n",
      "32/32 [==============================] - 79s 2s/step - loss: 0.3619 - accuracy: 0.8423 - val_loss: 0.6640 - val_accuracy: 0.7525\n",
      "Epoch 20/25\n",
      "32/32 [==============================] - 80s 3s/step - loss: 0.3549 - accuracy: 0.8433 - val_loss: 0.6382 - val_accuracy: 0.7475\n",
      "Epoch 21/25\n",
      "32/32 [==============================] - 81s 3s/step - loss: 0.3695 - accuracy: 0.8473 - val_loss: 0.6293 - val_accuracy: 0.7129\n",
      "Epoch 22/25\n",
      "32/32 [==============================] - 81s 3s/step - loss: 0.3356 - accuracy: 0.8503 - val_loss: 0.5178 - val_accuracy: 0.7425\n",
      "Epoch 23/25\n",
      "32/32 [==============================] - 80s 2s/step - loss: 0.3160 - accuracy: 0.8533 - val_loss: 0.6581 - val_accuracy: 0.6882\n",
      "Epoch 24/25\n",
      "32/32 [==============================] - 80s 3s/step - loss: 0.3238 - accuracy: 0.8653 - val_loss: 0.6766 - val_accuracy: 0.7078\n",
      "Epoch 25/25\n",
      "32/32 [==============================] - 80s 2s/step - loss: 0.2808 - accuracy: 0.8932 - val_loss: 0.4694 - val_accuracy: 0.7030\n"
     ]
    },
    {
     "data": {
      "text/plain": [
       "<keras.callbacks.callbacks.History at 0x27a98789888>"
      ]
     },
     "execution_count": 16,
     "metadata": {},
     "output_type": "execute_result"
    }
   ],
   "source": [
    "classifier.fit_generator(training_set,\n",
    "                         epochs = 25,\n",
    "                         validation_data = test_set,\n",
    "                         validation_steps = 1000)"
   ]
  },
  {
   "cell_type": "code",
   "execution_count": 18,
   "metadata": {},
   "outputs": [],
   "source": [
    "#Making new predictions\n",
    "import numpy as np\n",
    "from keras.preprocessing import image"
   ]
  },
  {
   "cell_type": "code",
   "execution_count": 45,
   "metadata": {},
   "outputs": [
    {
     "data": {
      "image/png": "[encoded data removed]",
      "text/plain": [
       "<PIL.Image.Image image mode=RGB size=64x64 at 0x27A9C058788>"
      ]
     },
     "execution_count": 45,
     "metadata": {},
     "output_type": "execute_result"
    }
   ],
   "source": [
    "test_image=image.load_img('C:/Users/gaurav sahani/Desktop/Machine Learning/Mchine Learning Parctical/Cat Dog Classifier program/cats_and_dogs_filtered/cats_and_dogs_filtered/validation/cats/cat.2080.jpg', target_size = (64, 64))\n",
    "test_image"
   ]
  },
  {
   "cell_type": "code",
   "execution_count": 46,
   "metadata": {},
   "outputs": [],
   "source": [
    "test_image=image.img_to_array(test_image)\n",
    "test_image=np.expand_dims(test_image, axis = 0)"
   ]
  },
  {
   "cell_type": "code",
   "execution_count": 47,
   "metadata": {},
   "outputs": [
    {
     "data": {
      "text/plain": [
       "array([[0.]], dtype=float32)"
      ]
     },
     "execution_count": 47,
     "metadata": {},
     "output_type": "execute_result"
    }
   ],
   "source": [
    "result = classifier.predict(test_image)\n",
    "result"
   ]
  },
  {
   "cell_type": "code",
   "execution_count": 48,
   "metadata": {},
   "outputs": [
    {
     "name": "stdout",
     "output_type": "stream",
     "text": [
      "Its a Cat\n"
     ]
    }
   ],
   "source": [
    "if result==1:\n",
    "    print(\"Its a Dog\")\n",
    "else:\n",
    "    print(\"Its a Cat\")"
   ]
  },
  {
   "cell_type": "code",
   "execution_count": null,
   "metadata": {},
   "outputs": [],
   "source": []
  }
 ],
 "metadata": {
  "kernelspec": {
   "display_name": "Python 3",
   "language": "python",
   "name": "python3"
  },
  "language_info": {
   "codemirror_mode": {
    "name": "ipython",
    "version": 3
   },
   "file_extension": ".py",
   "mimetype": "text/x-python",
   "name": "python",
   "nbconvert_exporter": "python",
   "pygments_lexer": "ipython3",
   "version": "3.7.6"
  }
 },
 "nbformat": 4,
 "nbformat_minor": 4
}
